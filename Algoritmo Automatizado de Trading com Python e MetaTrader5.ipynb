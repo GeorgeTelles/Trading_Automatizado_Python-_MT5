{
  "cells": [
    {
      "cell_type": "markdown",
      "id": "2eae638a",
      "metadata": {
        "id": "2eae638a"
      },
      "source": [
        "<img src=\"https://raw.githubusercontent.com/GeorgeTelles/georgetelles/f69531ec6b293b5148563588a764c010015d315e/logo_clara.png\" width=\"300\" align=\"left\"/>"
      ]
    },
    {
      "cell_type": "markdown",
      "id": "a1ea4646-4b4c-4531-a53b-5e4e846514a5",
      "metadata": {
        "id": "a1ea4646-4b4c-4531-a53b-5e4e846514a5"
      },
      "source": [
        "------\n",
        "# **Algoritmo Automatizado de Trading com Python e MetaTrader5**\n",
        "------"
      ]
    },
    {
      "cell_type": "markdown",
      "id": "51a55257",
      "metadata": {},
      "source": [
        "Este projeto implementa um algoritmo em Python que aplica uma estratégia de trading a múltiplos ativos financeiros simultaneamente, utilizando o MetaTrader5 para executar operações de compra automaticamente.\n",
        "\n",
        "## Funcionalidades\n",
        "\n",
        "1. **Instalação e Importação de Bibliotecas**\n",
        "   - Utiliza a biblioteca `MetaTrader5` para comunicação com a plataforma de trading.\n",
        "   - Importa outras bibliotecas necessárias para manipulação de dados e cálculos financeiros.\n",
        "\n",
        "2. **Configuração Inicial**\n",
        "   - Conecta ao MetaTrader5 e configura os ativos desejados para análise.\n",
        "   - Verifica a disponibilidade dos ativos na plataforma.\n",
        "\n",
        "3. **Criação do Screening de Ativos**\n",
        "   - **Download de Dados**: Coleta dados históricos de cotações para cada ativo.\n",
        "   - **Cálculo de Indicadores**: Adiciona Médias Móveis Simples (SMA) de 20 e 200 períodos aos dados dos ativos.\n",
        "   - **Regras de Estratégia**: Define regras para identificar quais ativos atendem aos critérios da estratégia, como:\n",
        "     - A SMA de 20 períodos deve ser maior que a SMA de 200 períodos.\n",
        "     - O preço de fechamento deve estar acima da SMA de 20 períodos.\n",
        "\n",
        "4. **Automatização de Trades**\n",
        "   - Monitora os ativos periodicamente para verificar se atendem às condições da estratégia.\n",
        "   - Executa automaticamente ordens de compra para os ativos que cumprem os critérios, utilizando o MetaTrader5.\n",
        "   - Implementa controle para evitar múltiplas ordens para o mesmo ativo e ajusta o volume, stop loss e take profit das ordens.\n",
        "\n",
        "## Requisitos\n",
        "\n",
        "- MetaTrader5 instalado e configurado.\n",
        "- Python 3.x.\n",
        "- Bibliotecas: `MetaTrader5`, `pandas`, `numpy`, `pytz`, `mplfinance`, `plotly`.\n",
        "\n",
        "Este algoritmo é ideal para traders que desejam automatizar a aplicação de estratégias de trading em múltiplos ativos, economizando tempo e potencialmente melhorando a eficiência das operações.\n"
      ]
    },
    {
      "cell_type": "markdown",
      "id": "ba869e3b-bbab-4c74-a2a7-5706599d6091",
      "metadata": {
        "id": "ba869e3b-bbab-4c74-a2a7-5706599d6091",
        "tags": []
      },
      "source": [
        "# 1. Instalando e Importando Bibliotecas"
      ]
    },
    {
      "cell_type": "code",
      "execution_count": null,
      "id": "e0bd7bd9",
      "metadata": {
        "id": "e0bd7bd9"
      },
      "outputs": [],
      "source": [
        "%pip install MetaTrader5"
      ]
    },
    {
      "cell_type": "code",
      "execution_count": null,
      "id": "863e2582-1857-4c34-b6c3-53ec1316c97b",
      "metadata": {
        "id": "863e2582-1857-4c34-b6c3-53ec1316c97b"
      },
      "outputs": [],
      "source": [
        "import numpy as np\n",
        "import pandas as pd\n",
        "\n",
        "from datetime import datetime, timedelta\n",
        "import pytz\n",
        "from time import sleep\n",
        "\n",
        "import plotly.graph_objects as go\n",
        "from plotly.subplots import make_subplots\n",
        "\n",
        "import MetaTrader5 as mt5\n",
        "import mplfinance as mpf"
      ]
    },
    {
      "cell_type": "markdown",
      "id": "8bde0aed-5b55-4895-ae23-c222b95a0cb1",
      "metadata": {
        "id": "8bde0aed-5b55-4895-ae23-c222b95a0cb1",
        "tags": []
      },
      "source": [
        "# 2. Iniciar o MT5 e configurar os ativos desejados"
      ]
    },
    {
      "cell_type": "code",
      "execution_count": null,
      "id": "616cb82d-8163-4e5f-ab80-fa2d25272053",
      "metadata": {
        "id": "616cb82d-8163-4e5f-ab80-fa2d25272053",
        "outputId": "16e690a7-69f5-4e6f-b59d-7bb79e925d42"
      },
      "outputs": [],
      "source": [
        "mt5.initialize()"
      ]
    },
    {
      "cell_type": "code",
      "execution_count": null,
      "id": "86c9653e",
      "metadata": {},
      "outputs": [],
      "source": [
        "timezone = pytz.timezone(\"America/Sao_Paulo\")\n",
        "data_inicio = datetime.now() - timedelta(days=5)\n",
        "data_fim = datetime.now()"
      ]
    },
    {
      "cell_type": "code",
      "execution_count": null,
      "id": "e81b086f",
      "metadata": {
        "id": "e81b086f"
      },
      "outputs": [],
      "source": [
        "lista_tickers = [\"ABEV3\", \"ALPA4\", \"AZZA3\", \"ASAI3\", \"AZUL4\", \"B3SA3\", \"BBAS3\",\n",
        "                \"BBDC3\", \"BBDC4\", \"BBSE3\", \"BEEF3\", \"BPAC11\", \"BPAN4\", \"BRAP4\", \"BRFS3\",\n",
        "                \"BRKM5\", \"CASH3\", \"CCRO3\", \"CIEL3\", \"CMIG4\", \"CMIN3\", \"COGN3\", \"CPFE3\",\n",
        "                \"CPLE6\", \"CRFB3\", \"CSAN3\", \"CSNA3\", \"CVCB3\", \"CYRE3\",  \"DXCO3\", \"ECOR3\",\n",
        "                \"EGIE3\", \"ELET3\", \"ELET6\", \"EMBR3\", \"ENEV3\", \"ENGI11\", \"EQTL3\",\n",
        "                \"EZTC3\", \"FLRY3\", \"GGBR4\", \"GOAU4\", \"GOLL4\", \"HAPV3\", \"HYPE3\", \"IGTI11\",\n",
        "                \"ITSA4\", \"ITUB4\", \"JBSS3\", \"KLBN11\", \"LREN3\", \"LWSA3\", \"MGLU3\", \"MRFG3\",\n",
        "                \"MRVE3\", \"MULT3\", \"NTCO3\", \"PCAR3\", \"PETR3\", \"PETR4\", \"PETZ3\", \"PRIO3\",\n",
        "                \"QUAL3\", \"RADL3\", \"RAIL3\", \"RAIZ4\", \"RDOR3\", \"RENT3\", \"RRRP3\", \"SANB11\",\n",
        "                \"SBSP3\", \"SLCE3\", \"SMTO3\", \"SUZB3\", \"TAEE11\", \"TIMS3\", \"TOTS3\",\n",
        "                \"UGPA3\", \"USIM5\", \"VALE3\", \"VBBR3\", \"VIVT3\", \"WEGE3\", \"YDUQ3\"]"
      ]
    },
    {
      "cell_type": "markdown",
      "id": "16a5ce4c",
      "metadata": {},
      "source": [
        "**Verificando se os ativos existem**"
      ]
    },
    {
      "cell_type": "code",
      "execution_count": null,
      "id": "e3666820",
      "metadata": {
        "id": "e3666820",
        "outputId": "141f39d3-410a-45e4-fb98-2bcf819505d7"
      },
      "outputs": [],
      "source": [
        "for ticker in lista_tickers:\n",
        "    selected=mt5.symbol_select(ticker,True)\n",
        "    if selected:\n",
        "        print(ticker,\"incluído\")\n",
        "    if not selected:\n",
        "        print(ticker,\"não localizado\")"
      ]
    },
    {
      "cell_type": "markdown",
      "id": "2ae8704a",
      "metadata": {
        "id": "2ae8704a"
      },
      "source": [
        "# 3. Criar screening de ativos"
      ]
    },
    {
      "cell_type": "markdown",
      "id": "5b7ce20b",
      "metadata": {
        "id": "5b7ce20b"
      },
      "source": [
        "### 3.1. Baixar e organizar os dados de cotações"
      ]
    },
    {
      "cell_type": "code",
      "execution_count": null,
      "id": "1bbbf63b",
      "metadata": {
        "id": "1bbbf63b"
      },
      "outputs": [],
      "source": [
        "cotacoes_mt5_all = []\n",
        "\n",
        "for ticker in lista_tickers:\n",
        "    cotacoes_mt5_ticker = mt5.copy_rates_range(ticker, mt5.TIMEFRAME_M5, data_inicio, data_fim)\n",
        "    cotacoes_mt5_ticker = pd.DataFrame(cotacoes_mt5_ticker)\n",
        "    cotacoes_mt5_ticker['ticker'] = str(ticker)\n",
        "    cotacoes_mt5_ticker.index = pd.to_datetime(cotacoes_mt5_ticker['time'], unit='s')\n",
        "    cotacoes_mt5_ticker.drop(\"time\", axis=1, inplace=True)\n",
        "    cotacoes_mt5_all.append(cotacoes_mt5_ticker)"
      ]
    },
    {
      "cell_type": "code",
      "execution_count": null,
      "id": "5b9f7ba0",
      "metadata": {
        "id": "5b9f7ba0",
        "outputId": "f8042dc9-4b7d-4e06-c59a-ba3753d24f0b"
      },
      "outputs": [],
      "source": [
        "list(enumerate(lista_tickers))\n",
        "pass"
      ]
    },
    {
      "cell_type": "markdown",
      "id": "2f6e88bf",
      "metadata": {
        "id": "2f6e88bf"
      },
      "source": [
        "### 3.2. Adicionar indicadores e regras do screening"
      ]
    },
    {
      "cell_type": "markdown",
      "id": "f27ca99b",
      "metadata": {},
      "source": [
        "**Neste caso estou adiciando a Média Movel de 20 Periodos e a Média Movel de 200 Periodos**"
      ]
    },
    {
      "cell_type": "code",
      "execution_count": null,
      "id": "2e1537f2",
      "metadata": {
        "id": "2e1537f2"
      },
      "outputs": [],
      "source": [
        "for i in range(0,len(cotacoes_mt5_all)):\n",
        "  cotacoes_mt5_all[i]['SMA_20p'] = cotacoes_mt5_all[i]['close'].rolling(20).mean()\n",
        "  cotacoes_mt5_all[i]['SMA_200p'] = cotacoes_mt5_all[i]['close'].rolling(200).mean()\n",
        "  cotacoes_mt5_all[i] = cotacoes_mt5_all[i].dropna()"
      ]
    },
    {
      "cell_type": "markdown",
      "id": "063fc887",
      "metadata": {
        "id": "063fc887"
      },
      "source": [
        "**2 regras simples:**\n",
        "\n",
        "1) Ativos cuja **MM_20p seja maior que a MM_200p**\n",
        "2) Ativos cujo **fechamento esteja acima da MM_20p**"
      ]
    },
    {
      "cell_type": "code",
      "execution_count": null,
      "id": "a3dcd6e2",
      "metadata": {},
      "outputs": [],
      "source": [
        "def screening_ativos(df):\n",
        "    cond1 = df.SMA_20p.iloc[-1] > df.SMA_200p.iloc[-1]\n",
        "    cond2 = df[\"open\"].iloc[-1] > df[\"SMA_20p\"].iloc[-1]\n",
        "\n",
        "    return(cond1 & cond2)"
      ]
    },
    {
      "cell_type": "markdown",
      "id": "0da7f77e",
      "metadata": {},
      "source": [
        "**Mostra os ativos que atendem a condição**"
      ]
    },
    {
      "cell_type": "code",
      "execution_count": null,
      "id": "5567fd67",
      "metadata": {
        "id": "5567fd67",
        "outputId": "c615c7d7-7a2d-406d-f957-0690c2e5b29c"
      },
      "outputs": [],
      "source": [
        "ls_screening_Regra_SMA = []\n",
        "\n",
        "for i in range(0,len(cotacoes_mt5_all)):\n",
        "    if (cotacoes_mt5_all[i].iloc[-1]['SMA_20p'] > cotacoes_mt5_all[i].iloc[-1]['SMA_200p']) & \\\n",
        "      (cotacoes_mt5_all[i].iloc[-1]['close'] > cotacoes_mt5_all[i].iloc[-1]['SMA_20p']):\n",
        "        ls_screening_Regra_SMA.append((lista_tickers[i]))\n",
        "        print(\"O ativo (\"+lista_tickers[i]+\") atende às regras da estrategia\")\n",
        "    else:\n",
        "        # print(lista_tickers[i],\"não atende\")\n",
        "        pass\n",
        "print(f\"{len(ls_screening_Regra_SMA)} Ativos atendem ás regras da estrategia\")"
      ]
    },
    {
      "cell_type": "markdown",
      "id": "f1943766",
      "metadata": {
        "id": "f1943766"
      },
      "source": [
        "# 4. Automatizando o trade baseado na estrategia"
      ]
    },
    {
      "cell_type": "code",
      "execution_count": null,
      "id": "13447840",
      "metadata": {
        "id": "13447840",
        "outputId": "8b2b12ef-24ed-4a85-b14b-c83d12ccbe2d"
      },
      "outputs": [],
      "source": [
        "timezone = pytz.timezone(\"America/Sao_Paulo\")\n",
        "data_inicio = datetime.now() - timedelta(days=3)\n",
        "data_fim = datetime.now()\n",
        "\n",
        "contagem = 0\n",
        "\n",
        "while contagem < 15:\n",
        "\n",
        "    print('------- Inicio do',contagem,' round -------')\n",
        "    for ticker in lista_tickers:\n",
        "\n",
        "        cotacoes_mt5_ticker = mt5.copy_rates_range(ticker, mt5.TIMEFRAME_M1, data_inicio, data_fim)\n",
        "        cotacoes_mt5_ticker = pd.DataFrame(cotacoes_mt5_ticker)\n",
        "        cotacoes_mt5_ticker.index = pd.to_datetime(cotacoes_mt5_ticker['time'], unit='s')\n",
        "        cotacoes_mt5_ticker['ticker'] = str(ticker)\n",
        "        cotacoes_mt5_ticker['SMA_rapida'] = cotacoes_mt5_ticker['close'].rolling(10).mean()\n",
        "        cotacoes_mt5_ticker['SMA_lenta'] = cotacoes_mt5_ticker['close'].rolling(20).mean()\n",
        "\n",
        "        if (cotacoes_mt5_ticker.iloc[-1]['SMA_rapida'] > cotacoes_mt5_ticker.iloc[-1]['SMA_lenta']) & \\\n",
        "            (cotacoes_mt5_ticker.iloc[-1]['close'] > cotacoes_mt5_ticker.iloc[-1]['SMA_rapida']):\n",
        "            print(\"O ativo indexado como\",ticker, \"atende às regras e será comprado\")\n",
        "\n",
        "            positions = mt5.positions_get(symbol=ticker)\n",
        "            if len(positions)==0:\n",
        "                qtd = 100.0\n",
        "                tick_min = mt5.symbol_info(ticker).point\n",
        "                preco = mt5.symbol_info_tick(ticker).ask\n",
        "                ordem_compra = {\n",
        "                    \"action\": mt5.TRADE_ACTION_DEAL,\n",
        "                    \"symbol\": ticker,\n",
        "                    \"volume\": qtd,\n",
        "                    \"type\": mt5.ORDER_TYPE_BUY,\n",
        "                    \"price\": preco,\n",
        "                    \"sl\": preco - 8 * tick_min,\n",
        "                    \"tp\": preco + 8 * tick_min,\n",
        "                    \"magic\": 1,\n",
        "                    \"comment\": \"Automatizando trades\",\n",
        "                    \"type_time\": mt5.ORDER_TIME_DAY,\n",
        "                    \"type_filling\": mt5.ORDER_FILLING_RETURN,\n",
        "                    }\n",
        "                result_compra = mt5.order_send(ordem_compra)\n",
        "            else:\n",
        "                print(ticker,\"já posicionado\")\n",
        "\n",
        "        else:\n",
        "            # print(ticker,\"não atende ao screening\")\n",
        "            pass\n",
        "\n",
        "        sleep(1)\n",
        "\n",
        "    contagem += 1\n",
        "    sleep(30)"
      ]
    }
  ],
  "metadata": {
    "colab": {
      "provenance": []
    },
    "kernelspec": {
      "display_name": "Python 3.9.7 ('base')",
      "language": "python",
      "name": "python3"
    },
    "language_info": {
      "codemirror_mode": {
        "name": "ipython",
        "version": 3
      },
      "file_extension": ".py",
      "mimetype": "text/x-python",
      "name": "python",
      "nbconvert_exporter": "python",
      "pygments_lexer": "ipython3",
      "version": "3.12.4"
    },
    "vscode": {
      "interpreter": {
        "hash": "e06b40c6137042d8892c2eda6f37a8f74933dd747fa61ea5f8a3936389984de1"
      }
    }
  },
  "nbformat": 4,
  "nbformat_minor": 5
}
